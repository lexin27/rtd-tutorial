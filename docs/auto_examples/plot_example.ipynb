{
  "cells": [
    {
      "cell_type": "markdown",
      "metadata": {},
      "source": [
        "\n# \"This\" is my example-script\n\nThis example doesn't do much, it just makes a simple plot\n"
      ]
    },
    {
      "cell_type": "code",
      "execution_count": null,
      "metadata": {
        "collapsed": false
      },
      "outputs": [],
      "source": [
        "def get_random_ingredients(kind=None):\n    \"\"\"\n    Return a list of random ingredients as strings.\n\n    :param kind: Optional \"kind\" of ingredients.\n    :type kind: list[str] or None\n    :raise lumache.InvalidKindError: If the kind is invalid.\n    :return: The ingredients list.\n    :rtype: list[str]\n    \"\"\"\n    return [\"shells\", \"gorgonzola\", \"parsley\"]"
      ]
    }
  ],
  "metadata": {
    "kernelspec": {
      "display_name": "Python 3",
      "language": "python",
      "name": "python3"
    },
    "language_info": {
      "codemirror_mode": {
        "name": "ipython",
        "version": 3
      },
      "file_extension": ".py",
      "mimetype": "text/x-python",
      "name": "python",
      "nbconvert_exporter": "python",
      "pygments_lexer": "ipython3",
      "version": "3.12.3"
    }
  },
  "nbformat": 4,
  "nbformat_minor": 0
}